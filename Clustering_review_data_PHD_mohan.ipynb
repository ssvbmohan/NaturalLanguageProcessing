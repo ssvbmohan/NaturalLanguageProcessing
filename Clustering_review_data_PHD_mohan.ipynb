{
 "cells": [
  {
   "cell_type": "markdown",
   "metadata": {},
   "source": [
    "## Clustering the review data from the train into 2 clusters and comapring the output with the given one"
   ]
  },
  {
   "cell_type": "code",
   "execution_count": 1,
   "metadata": {},
   "outputs": [],
   "source": [
    "import pandas as pd\n",
    "import numpy as np\n",
    "from sklearn.cluster import KMeans\n",
    "from sklearn.model_selection import train_test_split\n",
    "from sklearn.preprocessing import StandardScaler\n",
    "import matplotlib.pyplot as plt\n",
    "%matplotlib inline"
   ]
  },
  {
   "cell_type": "code",
   "execution_count": 2,
   "metadata": {},
   "outputs": [],
   "source": [
    "import pickle\n",
    "filename = '4000reviews_preprocessed.csv'\n",
    "infile = open(filename,'rb')\n",
    "review3000_dt = pickle.load(infile)\n",
    "infile.close()"
   ]
  },
  {
   "cell_type": "code",
   "execution_count": 88,
   "metadata": {},
   "outputs": [],
   "source": [
    "review3000_dt['sentiment'] = review3000_dt['sentiment'].replace({0:1, 1:0})\n"
   ]
  },
  {
   "cell_type": "code",
   "execution_count": 89,
   "metadata": {},
   "outputs": [
    {
     "data": {
      "text/html": [
       "<div>\n",
       "<style scoped>\n",
       "    .dataframe tbody tr th:only-of-type {\n",
       "        vertical-align: middle;\n",
       "    }\n",
       "\n",
       "    .dataframe tbody tr th {\n",
       "        vertical-align: top;\n",
       "    }\n",
       "\n",
       "    .dataframe thead th {\n",
       "        text-align: right;\n",
       "    }\n",
       "</style>\n",
       "<table border=\"1\" class=\"dataframe\">\n",
       "  <thead>\n",
       "    <tr style=\"text-align: right;\">\n",
       "      <th></th>\n",
       "      <th>review</th>\n",
       "      <th>sentiment</th>\n",
       "      <th>review_processed_1</th>\n",
       "    </tr>\n",
       "  </thead>\n",
       "  <tbody>\n",
       "    <tr>\n",
       "      <th>0</th>\n",
       "      <td>It was just as good as the original. The anima...</td>\n",
       "      <td>1</td>\n",
       "      <td>good original animal magnificent took daughter...</td>\n",
       "    </tr>\n",
       "    <tr>\n",
       "      <th>1</th>\n",
       "      <td>They stayed true to the cartoon except for the...</td>\n",
       "      <td>1</td>\n",
       "      <td>stayed true cartoon except part hyena teased s...</td>\n",
       "    </tr>\n",
       "    <tr>\n",
       "      <th>2</th>\n",
       "      <td>It was a great movie!  It was great at conveyi...</td>\n",
       "      <td>1</td>\n",
       "      <td>great movie great conveying story</td>\n",
       "    </tr>\n",
       "    <tr>\n",
       "      <th>3</th>\n",
       "      <td>It was very realistic, very engaging and enter...</td>\n",
       "      <td>1</td>\n",
       "      <td>realistic engaging entertaining kept completel...</td>\n",
       "    </tr>\n",
       "    <tr>\n",
       "      <th>4</th>\n",
       "      <td>Just like the original but with awesome humor ...</td>\n",
       "      <td>1</td>\n",
       "      <td>like original awesome humor best watch fabulous</td>\n",
       "    </tr>\n",
       "  </tbody>\n",
       "</table>\n",
       "</div>"
      ],
      "text/plain": [
       "                                              review  sentiment  \\\n",
       "0  It was just as good as the original. The anima...          1   \n",
       "1  They stayed true to the cartoon except for the...          1   \n",
       "2  It was a great movie!  It was great at conveyi...          1   \n",
       "3  It was very realistic, very engaging and enter...          1   \n",
       "4  Just like the original but with awesome humor ...          1   \n",
       "\n",
       "                                  review_processed_1  \n",
       "0  good original animal magnificent took daughter...  \n",
       "1  stayed true cartoon except part hyena teased s...  \n",
       "2                  great movie great conveying story  \n",
       "3  realistic engaging entertaining kept completel...  \n",
       "4    like original awesome humor best watch fabulous  "
      ]
     },
     "execution_count": 89,
     "metadata": {},
     "output_type": "execute_result"
    }
   ],
   "source": [
    "review3000_dt.head()"
   ]
  },
  {
   "cell_type": "code",
   "execution_count": 90,
   "metadata": {},
   "outputs": [
    {
     "data": {
      "text/html": [
       "<div>\n",
       "<style scoped>\n",
       "    .dataframe tbody tr th:only-of-type {\n",
       "        vertical-align: middle;\n",
       "    }\n",
       "\n",
       "    .dataframe tbody tr th {\n",
       "        vertical-align: top;\n",
       "    }\n",
       "\n",
       "    .dataframe thead th {\n",
       "        text-align: right;\n",
       "    }\n",
       "</style>\n",
       "<table border=\"1\" class=\"dataframe\">\n",
       "  <thead>\n",
       "    <tr style=\"text-align: right;\">\n",
       "      <th></th>\n",
       "      <th>review</th>\n",
       "      <th>sentiment</th>\n",
       "      <th>review_processed_1</th>\n",
       "    </tr>\n",
       "  </thead>\n",
       "  <tbody>\n",
       "    <tr>\n",
       "      <th>2995</th>\n",
       "      <td>Nada como la original</td>\n",
       "      <td>0</td>\n",
       "      <td>nada como original</td>\n",
       "    </tr>\n",
       "    <tr>\n",
       "      <th>2996</th>\n",
       "      <td>The benefit this film has is that its followin...</td>\n",
       "      <td>0</td>\n",
       "      <td>benefit film following story already good fami...</td>\n",
       "    </tr>\n",
       "    <tr>\n",
       "      <th>2997</th>\n",
       "      <td>Its ok. I liked it more than the original. But...</td>\n",
       "      <td>0</td>\n",
       "      <td>liked original liked aladdin remake better</td>\n",
       "    </tr>\n",
       "    <tr>\n",
       "      <th>2998</th>\n",
       "      <td>Left out three iconic lines while including ot...</td>\n",
       "      <td>0</td>\n",
       "      <td>left three iconic line including others great</td>\n",
       "    </tr>\n",
       "    <tr>\n",
       "      <th>2999</th>\n",
       "      <td>It was very flat and boring \\nI love Beyonce, ...</td>\n",
       "      <td>0</td>\n",
       "      <td>flat boring love beyonce voice made wanna scre...</td>\n",
       "    </tr>\n",
       "  </tbody>\n",
       "</table>\n",
       "</div>"
      ],
      "text/plain": [
       "                                                 review  sentiment  \\\n",
       "2995                              Nada como la original          0   \n",
       "2996  The benefit this film has is that its followin...          0   \n",
       "2997  Its ok. I liked it more than the original. But...          0   \n",
       "2998  Left out three iconic lines while including ot...          0   \n",
       "2999  It was very flat and boring \\nI love Beyonce, ...          0   \n",
       "\n",
       "                                     review_processed_1  \n",
       "2995                                 nada como original  \n",
       "2996  benefit film following story already good fami...  \n",
       "2997         liked original liked aladdin remake better  \n",
       "2998      left three iconic line including others great  \n",
       "2999  flat boring love beyonce voice made wanna scre...  "
      ]
     },
     "execution_count": 90,
     "metadata": {},
     "output_type": "execute_result"
    }
   ],
   "source": [
    "review3000_dt.tail()"
   ]
  },
  {
   "cell_type": "code",
   "execution_count": 108,
   "metadata": {},
   "outputs": [],
   "source": [
    "train_x, train_y = train_test_split(review3000_dt,test_size=0.20)"
   ]
  },
  {
   "cell_type": "code",
   "execution_count": 91,
   "metadata": {},
   "outputs": [],
   "source": [
    "X_train,X_test,y_train,y_test= train_test_split(review3000_dt.review_processed_1,review3000_dt.sentiment,test_size=0.20)\n"
   ]
  },
  {
   "cell_type": "code",
   "execution_count": 92,
   "metadata": {},
   "outputs": [],
   "source": [
    "from sklearn.feature_extraction.text import CountVectorizer\n",
    "cv = CountVectorizer(stop_words=\"english\",strip_accents=\"unicode\",decode_error=\"ignore\")\n",
    "cv_train_r1 = cv.fit_transform(X_train)\n",
    "cv_test_r1 = cv.transform(X_test)"
   ]
  },
  {
   "cell_type": "code",
   "execution_count": 93,
   "metadata": {},
   "outputs": [
    {
     "data": {
      "text/plain": [
       "Int64Index([1305, 2235,  558, 1686, 1037,  396,  803,  993,  864, 2229,\n",
       "            ...\n",
       "            1061, 2000,  828, 1240,  375,   47,  272, 2754, 1660,  530],\n",
       "           dtype='int64', length=2400)"
      ]
     },
     "execution_count": 93,
     "metadata": {},
     "output_type": "execute_result"
    }
   ],
   "source": [
    "X_train.index"
   ]
  },
  {
   "cell_type": "code",
   "execution_count": 94,
   "metadata": {},
   "outputs": [],
   "source": [
    "\n",
    "\n",
    "#number of clusters and also we are assigning this \"KMeans\" function to object kmeans \n",
    "kmeans = KMeans(n_clusters=2, init='k-means++', max_iter=200, n_init=100,random_state=232116)\n",
    "#fitting the input data; it itteratively finds the centroid value \n",
    "kmeans = kmeans.fit(cv_train_r1)\n",
    "#getting the cluster labels; labels the 2 cluster\n",
    "labels = kmeans.predict(cv_train_r1)\n",
    "#centriod values computes an array of values\n",
    "centroids = kmeans.cluster_centers_"
   ]
  },
  {
   "cell_type": "code",
   "execution_count": 95,
   "metadata": {},
   "outputs": [
    {
     "data": {
      "text/plain": [
       "array([[0.        , 0.        , 0.03478261, ..., 0.00869565, 0.        ,\n",
       "        0.00869565],\n",
       "       [0.00043764, 0.00087527, 0.00437637, ..., 0.00087527, 0.00043764,\n",
       "        0.00043764]])"
      ]
     },
     "execution_count": 95,
     "metadata": {},
     "output_type": "execute_result"
    }
   ],
   "source": [
    "centroids"
   ]
  },
  {
   "cell_type": "code",
   "execution_count": 96,
   "metadata": {},
   "outputs": [
    {
     "data": {
      "text/plain": [
       "array([1, 1, 1, ..., 1, 1, 1])"
      ]
     },
     "execution_count": 96,
     "metadata": {},
     "output_type": "execute_result"
    }
   ],
   "source": [
    "labels"
   ]
  },
  {
   "cell_type": "code",
   "execution_count": 97,
   "metadata": {},
   "outputs": [],
   "source": [
    "true_test_labels = ['pos','neg']\n"
   ]
  },
  {
   "cell_type": "code",
   "execution_count": 98,
   "metadata": {},
   "outputs": [],
   "source": [
    "labels_test = kmeans.predict(cv_test_r1)\n",
    "\n",
    "predicted_labels_knn = modelknn.predict(cv_test_r1)"
   ]
  },
  {
   "cell_type": "code",
   "execution_count": 99,
   "metadata": {},
   "outputs": [],
   "source": [
    "wss = {}\n",
    "for k in range(1,10):\n",
    "    kmeans = KMeans(n_clusters=k, max_iter=1000).fit(cv_train_r1)\n",
    "    #clusters = kmeans.labels_\n",
    "    wss[k] = kmeans.inertia_\n",
    "    #inertia:summ of squared distances of samples to their closest cluster center"
   ]
  },
  {
   "cell_type": "code",
   "execution_count": 100,
   "metadata": {},
   "outputs": [
    {
     "data": {
      "text/plain": [
       "{1: 32781.177083333336,\n",
       " 2: 31085.64605263161,\n",
       " 3: 30126.210824204674,\n",
       " 4: 29416.241763008198,\n",
       " 5: 29047.261466010626,\n",
       " 6: 28611.781182090675,\n",
       " 7: 28202.446616290526,\n",
       " 8: 27972.4455416735,\n",
       " 9: 27752.689593134837}"
      ]
     },
     "execution_count": 100,
     "metadata": {},
     "output_type": "execute_result"
    }
   ],
   "source": [
    "wss"
   ]
  },
  {
   "cell_type": "code",
   "execution_count": 101,
   "metadata": {},
   "outputs": [
    {
     "data": {
      "text/plain": [
       "<function matplotlib.pyplot.show(*args, **kw)>"
      ]
     },
     "execution_count": 101,
     "metadata": {},
     "output_type": "execute_result"
    },
    {
     "data": {
      "image/png": "[encoded data removed]",
      "text/plain": [
       "<Figure size 432x288 with 1 Axes>"
      ]
     },
     "metadata": {},
     "output_type": "display_data"
    }
   ],
   "source": [
    "plt.figure()\n",
    "plt.plot(list(wss.keys()),list(wss.values()))\n",
    "plt.xlabel(\"Number of clusters\")\n",
    "plt.ylabel(\"wss\")\n",
    "plt.title(\"choosing optimal k\")\n",
    "plt.show"
   ]
  },
  {
   "cell_type": "markdown",
   "metadata": {},
   "source": [
    "## comparision of the predicted text with original text and labeling them with postive and negative"
   ]
  },
  {
   "cell_type": "code",
   "execution_count": 104,
   "metadata": {
    "scrolled": false
   },
   "outputs": [
    {
     "name": "stdout",
     "output_type": "stream",
     "text": [
      "\n",
      "Below 3 sentences will be predicted against the learned nieghbourhood and learned clusters:\n",
      "1.  good original animal magnificent took daughter cried movie opening scene closing scene circle life moving year mufasas death seemed gutwretching time around negative missed whoppi goldberg crazy hyena \n",
      "2.  stayed true cartoon except part hyena teased saying hearing name mufasa part cartoon best scene included great movie \n",
      "3.  great movie great conveying story\n",
      "\n",
      "-------------------------------PREDICTIONS BY KNN------------------------------------------\n",
      "\n",
      " good original animal magnificent took daughter cried movie opening scene closing scene circle life moving year mufasas death seemed gutwretching time around negative missed whoppi goldberg crazy hyena : pos \n",
      " stayed true cartoon except part hyena teased saying hearing name mufasa part cartoon best scene included great movie : neg \n",
      " great movie great conveying story : neg\n"
     ]
    }
   ],
   "source": [
    "print (\"\\nBelow 3 sentences will be predicted against the learned nieghbourhood and learned clusters:\\n1. \",\\\n",
    "review3000_dt.review_processed_1[0],\"\\n2. \",review3000_dt.review_processed_1[1],\"\\n3. \",review3000_dt.review_processed_1[2])\n",
    "print(\"\\n-------------------------------PREDICTIONS BY KNN------------------------------------------\")\n",
    "print (\"\\n\",review3000_dt.review_processed_1[0],\":\",true_test_labels[np.int(labels_test[0])],\\\n",
    "\"\\n\",review3000_dt.review_processed_1[1],\":\",true_test_labels[np.int(labels_test[1])],\\\n",
    "\"\\n\",review3000_dt.review_processed_1[2],\":\",true_test_labels[np.int(labels_test[2])])\n",
    " \n"
   ]
  },
  {
   "cell_type": "code",
   "execution_count": 107,
   "metadata": {},
   "outputs": [
    {
     "data": {
      "text/plain": [
       "Counter({1: 2285, 0: 115})"
      ]
     },
     "execution_count": 107,
     "metadata": {},
     "output_type": "execute_result"
    }
   ],
   "source": [
    "import collections\n",
    "\n",
    "collections.Counter(labels)"
   ]
  },
  {
   "cell_type": "code",
   "execution_count": 110,
   "metadata": {},
   "outputs": [
    {
     "data": {
      "text/plain": [
       "1    1527\n",
       "0     873\n",
       "Name: sentiment, dtype: int64"
      ]
     },
     "execution_count": 110,
     "metadata": {},
     "output_type": "execute_result"
    }
   ],
   "source": [
    "train_x.sentiment.value_counts()"
   ]
  },
  {
   "cell_type": "markdown",
   "metadata": {},
   "source": [
    "## Here clustering couldn't actually preddict the two clusters properly\n",
    "  ## As we can see that out of 873 negative records it only preddicted 115 records which is very poor approach.\n",
    "  "
   ]
  },
  {
   "cell_type": "markdown",
   "metadata": {},
   "source": [
    "### 1. Therefore clustering cannot classify the data properly. "
   ]
  },
  {
   "cell_type": "code",
   "execution_count": null,
   "metadata": {},
   "outputs": [],
   "source": []
  }
 ],
 "metadata": {
  "kernelspec": {
   "display_name": "Python 3",
   "language": "python",
   "name": "python3"
  },
  "language_info": {
   "codemirror_mode": {
    "name": "ipython",
    "version": 3
   },
   "file_extension": ".py",
   "mimetype": "text/x-python",
   "name": "python",
   "nbconvert_exporter": "python",
   "pygments_lexer": "ipython3",
   "version": "3.6.5"
  }
 },
 "nbformat": 4,
 "nbformat_minor": 2
}
